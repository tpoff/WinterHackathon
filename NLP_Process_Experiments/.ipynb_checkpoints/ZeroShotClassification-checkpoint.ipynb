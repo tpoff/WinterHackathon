{
 "cells": [
  {
   "cell_type": "code",
   "execution_count": 1,
   "id": "066f24f8-36eb-4702-a524-1b5e9c3ec987",
   "metadata": {},
   "outputs": [],
   "source": [
    "import transformers \n",
    "from transformers import pipeline\n",
    "import numpy as np\n",
    "import pandas as pd\n",
    "import tensorflow as tf\n",
    "import pickle"
   ]
  },
  {
   "cell_type": "code",
   "execution_count": 2,
   "id": "8f8126e7-3ea0-4614-87dd-cb441aee3304",
   "metadata": {},
   "outputs": [
    {
     "name": "stderr",
     "output_type": "stream",
     "text": [
      "No model was supplied, defaulted to facebook/bart-large-mnli and revision c626438 (https://huggingface.co/facebook/bart-large-mnli).\n",
      "Using a pipeline without specifying a model name and revision in production is not recommended.\n"
     ]
    },
    {
     "data": {
      "application/vnd.jupyter.widget-view+json": {
       "model_id": "2bce8b74708d4c5c96f5a2e80487d280",
       "version_major": 2,
       "version_minor": 0
      },
      "text/plain": [
       "Downloading:   0%|          | 0.00/1.15k [00:00<?, ?B/s]"
      ]
     },
     "metadata": {},
     "output_type": "display_data"
    },
    {
     "name": "stderr",
     "output_type": "stream",
     "text": [
      "C:\\Users\\Tyler\\anaconda3\\lib\\site-packages\\huggingface_hub\\file_download.py:123: UserWarning: `huggingface_hub` cache-system uses symlinks by default to efficiently store duplicated files but your machine does not support them in C:\\Users\\Tyler\\.cache\\huggingface\\hub. Caching files will still work but in a degraded version that might require more space on your disk. This warning can be disabled by setting the `HF_HUB_DISABLE_SYMLINKS_WARNING` environment variable. For more details, see https://huggingface.co/docs/huggingface_hub/how-to-cache#limitations.\n",
      "To support symlinks on Windows, you either need to activate Developer Mode or to run Python as an administrator. In order to see activate developer mode, see this article: https://docs.microsoft.com/en-us/windows/apps/get-started/enable-your-device-for-development\n",
      "  warnings.warn(message)\n"
     ]
    },
    {
     "data": {
      "application/vnd.jupyter.widget-view+json": {
       "model_id": "eae47ea87cad42c9a2d561f3ded16e47",
       "version_major": 2,
       "version_minor": 0
      },
      "text/plain": [
       "Downloading:   0%|          | 0.00/1.63G [00:00<?, ?B/s]"
      ]
     },
     "metadata": {},
     "output_type": "display_data"
    },
    {
     "data": {
      "application/vnd.jupyter.widget-view+json": {
       "model_id": "0a622385cef44932b836f8890aac550a",
       "version_major": 2,
       "version_minor": 0
      },
      "text/plain": [
       "Downloading:   0%|          | 0.00/26.0 [00:00<?, ?B/s]"
      ]
     },
     "metadata": {},
     "output_type": "display_data"
    },
    {
     "data": {
      "application/vnd.jupyter.widget-view+json": {
       "model_id": "979997744d254e508f805efc2b2da91a",
       "version_major": 2,
       "version_minor": 0
      },
      "text/plain": [
       "Downloading:   0%|          | 0.00/899k [00:00<?, ?B/s]"
      ]
     },
     "metadata": {},
     "output_type": "display_data"
    },
    {
     "data": {
      "application/vnd.jupyter.widget-view+json": {
       "model_id": "06eadba4e4e64643804711baac71abbb",
       "version_major": 2,
       "version_minor": 0
      },
      "text/plain": [
       "Downloading:   0%|          | 0.00/456k [00:00<?, ?B/s]"
      ]
     },
     "metadata": {},
     "output_type": "display_data"
    },
    {
     "data": {
      "application/vnd.jupyter.widget-view+json": {
       "model_id": "f3a90f6fe37a4e9291c96e1a97ebe185",
       "version_major": 2,
       "version_minor": 0
      },
      "text/plain": [
       "Downloading:   0%|          | 0.00/1.36M [00:00<?, ?B/s]"
      ]
     },
     "metadata": {},
     "output_type": "display_data"
    }
   ],
   "source": [
    "clf = pipeline(\"zero-shot-classification\", device=0)"
   ]
  },
  {
   "cell_type": "code",
   "execution_count": 3,
   "id": "cb604863-c7ef-4685-907c-088c21a518a7",
   "metadata": {},
   "outputs": [
    {
     "data": {
      "text/plain": [
       "{'sequence': 'How long until I can retire?',\n",
       " 'labels': ['time off', 'retirement', 'promotion'],\n",
       " 'scores': [0.7490541934967041, 0.24565665423870087, 0.005289127118885517]}"
      ]
     },
     "execution_count": 3,
     "metadata": {},
     "output_type": "execute_result"
    }
   ],
   "source": [
    "clf(\"How long until I can retire?\", candidate_labels=[\"retirement\", \"time off\", \"promotion\"])"
   ]
  },
  {
   "cell_type": "code",
   "execution_count": 54,
   "id": "7d174f38-4bba-436a-8b45-3b240aa7f3f2",
   "metadata": {},
   "outputs": [],
   "source": [
    "action_labels = [\n",
    "    \"info\",\n",
    "    \"image\",\n",
    "    \"video\",\n",
    "]\n",
    "\n",
    "info_labels = [\n",
    "    \"history or time\",\n",
    "    \"about\",\n",
    "    \"more\",\n",
    "    \"geography\",\n",
    "    \"things to do\", \n",
    "    \"culture\",\n",
    "    \"general\"\n",
    "]\n",
    "\n",
    "samples = [\n",
    "    \"show me some videos about Toronto\",\n",
    "    \"Tell me about the people in Europe\",\n",
    "    \"Where is Dallas Located\",\n",
    "    \"When did Texas become a state?\",\n",
    "    \"What are some tourist locations in Florida\",\n",
    "    \"information about Orlando\",\n",
    "    \"show me the dallas landscape\",\n",
    "    \"tell me more about Dallas\",\n",
    "    \"what is the average rent in Dallas\",\n",
    "    \"when was Dallas founded\",\n",
    "]"
   ]
  },
  {
   "cell_type": "code",
   "execution_count": 55,
   "id": "2f8c2565-63e9-4516-8ac1-cf6facf154c0",
   "metadata": {},
   "outputs": [
    {
     "name": "stdout",
     "output_type": "stream",
     "text": [
      "--------\n",
      "prompt: show me some videos about Toronto\n",
      "prediction: video\n",
      " score: 0.7779502272605896\n",
      "\n",
      "other scores: \n",
      "   label: info | score: 0.19417704641819\n",
      "   label: image | score: 0.027872713282704353\n",
      "--------\n",
      "prompt: Tell me about the people in Europe\n",
      "prediction: info\n",
      " score: 0.838974118232727\n",
      "\n",
      "other scores: \n",
      "   label: image | score: 0.10499725490808487\n",
      "   label: video | score: 0.056028664112091064\n",
      "\n",
      "\n",
      "Info sub-category\n",
      "prediction: more\n",
      " score: 0.319153755903244\n",
      "\n",
      "other scores: \n",
      "label: things to do | score: 0.23845277726650238\n",
      "label: about | score: 0.1849806159734726\n",
      "label: history or time | score: 0.0850522518157959\n",
      "label: general | score: 0.07164744287729263\n",
      "label: culture | score: 0.05093560367822647\n",
      "label: geography | score: 0.04977758601307869\n",
      "--------\n",
      "prompt: Where is Dallas Located\n",
      "prediction: info\n",
      " score: 0.7235940098762512\n",
      "\n",
      "other scores: \n",
      "   label: image | score: 0.2091255784034729\n",
      "   label: video | score: 0.0672803595662117\n",
      "\n",
      "\n",
      "Info sub-category\n",
      "prediction: geography\n",
      " score: 0.3591882586479187\n",
      "\n",
      "other scores: \n",
      "label: more | score: 0.18744249641895294\n",
      "label: things to do | score: 0.1739921122789383\n",
      "label: about | score: 0.10566186904907227\n",
      "label: culture | score: 0.07863040268421173\n",
      "label: general | score: 0.0645613819360733\n",
      "label: history or time | score: 0.030523553490638733\n",
      "--------\n",
      "prompt: When did Texas become a state?\n",
      "prediction: info\n",
      " score: 0.720490038394928\n",
      "\n",
      "other scores: \n",
      "   label: image | score: 0.19464552402496338\n",
      "   label: video | score: 0.08486449718475342\n",
      "\n",
      "\n",
      "Info sub-category\n",
      "prediction: history or time\n",
      " score: 0.3933577239513397\n",
      "\n",
      "other scores: \n",
      "label: more | score: 0.26189279556274414\n",
      "label: things to do | score: 0.11555499583482742\n",
      "label: geography | score: 0.08733969926834106\n",
      "label: about | score: 0.07504002749919891\n",
      "label: general | score: 0.03669422119855881\n",
      "label: culture | score: 0.030120480805635452\n",
      "--------\n",
      "prompt: What are some tourist locations in Florida\n",
      "prediction: info\n",
      " score: 0.7839948534965515\n",
      "\n",
      "other scores: \n",
      "   label: image | score: 0.1551506519317627\n",
      "   label: video | score: 0.06085449457168579\n",
      "\n",
      "\n",
      "Info sub-category\n",
      "prediction: things to do\n",
      " score: 0.5981666445732117\n",
      "\n",
      "other scores: \n",
      "label: more | score: 0.18980823457241058\n",
      "label: about | score: 0.0953616052865982\n",
      "label: geography | score: 0.04491737112402916\n",
      "label: general | score: 0.03948385640978813\n",
      "label: culture | score: 0.018832774832844734\n",
      "label: history or time | score: 0.013429493643343449\n",
      "--------\n",
      "prompt: information about Orlando\n",
      "prediction: info\n",
      " score: 0.9008175730705261\n",
      "\n",
      "other scores: \n",
      "   label: image | score: 0.06042608618736267\n",
      "   label: video | score: 0.038756392896175385\n",
      "\n",
      "\n",
      "Info sub-category\n",
      "prediction: more\n",
      " score: 0.3906859755516052\n",
      "\n",
      "other scores: \n",
      "label: about | score: 0.28007081151008606\n",
      "label: things to do | score: 0.08782808482646942\n",
      "label: culture | score: 0.06643763184547424\n",
      "label: history or time | score: 0.06265097111463547\n",
      "label: geography | score: 0.06105221435427666\n",
      "label: general | score: 0.05127427726984024\n",
      "--------\n",
      "prompt: show me the dallas landscape\n",
      "prediction: image\n",
      " score: 0.5670511722564697\n",
      "\n",
      "other scores: \n",
      "   label: info | score: 0.36488208174705505\n",
      "   label: video | score: 0.06806680560112\n",
      "--------\n",
      "prompt: tell me more about Dallas\n",
      "prediction: info\n",
      " score: 0.8598620295524597\n",
      "\n",
      "other scores: \n",
      "   label: image | score: 0.08796404302120209\n",
      "   label: video | score: 0.052173860371112823\n",
      "\n",
      "\n",
      "Info sub-category\n",
      "prediction: more\n",
      " score: 0.47508835792541504\n",
      "\n",
      "other scores: \n",
      "label: things to do | score: 0.17436620593070984\n",
      "label: about | score: 0.1347741037607193\n",
      "label: culture | score: 0.07317779213190079\n",
      "label: geography | score: 0.07269235700368881\n",
      "label: history or time | score: 0.03734321519732475\n",
      "label: general | score: 0.032558001577854156\n",
      "--------\n",
      "prompt: what is the average rent in Dallas\n",
      "prediction: info\n",
      " score: 0.8409430980682373\n",
      "\n",
      "other scores: \n",
      "   label: image | score: 0.10025312006473541\n",
      "   label: video | score: 0.05880369991064072\n",
      "\n",
      "\n",
      "Info sub-category\n",
      "prediction: more\n",
      " score: 0.49328920245170593\n",
      "\n",
      "other scores: \n",
      "label: about | score: 0.3166244924068451\n",
      "label: things to do | score: 0.06162473186850548\n",
      "label: general | score: 0.05292753875255585\n",
      "label: geography | score: 0.03440422564744949\n",
      "label: culture | score: 0.026592763140797615\n",
      "label: history or time | score: 0.014536981470882893\n",
      "--------\n",
      "prompt: when was Dallas founded\n",
      "prediction: info\n",
      " score: 0.8255946040153503\n",
      "\n",
      "other scores: \n",
      "   label: image | score: 0.12447531521320343\n",
      "   label: video | score: 0.04993002861738205\n",
      "\n",
      "\n",
      "Info sub-category\n",
      "prediction: history or time\n",
      " score: 0.38691893219947815\n",
      "\n",
      "other scores: \n",
      "label: more | score: 0.2399829775094986\n",
      "label: about | score: 0.125265970826149\n",
      "label: things to do | score: 0.10853970795869827\n",
      "label: geography | score: 0.05442523583769798\n",
      "label: culture | score: 0.05063846707344055\n",
      "label: general | score: 0.03422863781452179\n"
     ]
    }
   ],
   "source": [
    "for sample in samples:\n",
    "    prediction = clf(sample, candidate_labels=action_labels)\n",
    "    predicted_label = prediction['labels'][0]\n",
    "    confidence = prediction['scores'][0]\n",
    "    print(\"-\"*8)\n",
    "    print(\"prompt: %s\\nprediction: %s\\n score: %s\\n\"%(sample, predicted_label, confidence))\n",
    "    print(\"other scores: \")\n",
    "    for i in range(1, len(prediction['labels'])):\n",
    "        print(\"   label: %s | score: %s\"%(prediction['labels'][i], prediction['scores'][i]))\n",
    "        \n",
    "    if predicted_label == \"info\":\n",
    "        prediction = clf(sample, candidate_labels=info_labels)\n",
    "        predicted_label = prediction['labels'][0]\n",
    "        confidence = prediction['scores'][0]\n",
    "        print(\"\\n\\nInfo sub-category\\nprediction: %s\\n score: %s\\n\"%(predicted_label, confidence))\n",
    "        print(\"other scores: \")\n",
    "        for i in range(1, len(prediction['labels'])):\n",
    "            print(\"label: %s | score: %s\"%(prediction['labels'][i], prediction['scores'][i]))\n",
    "        "
   ]
  },
  {
   "cell_type": "code",
   "execution_count": 15,
   "id": "51e3a24e-37b1-4b05-b0fb-50afa5357d37",
   "metadata": {},
   "outputs": [
    {
     "data": {
      "text/plain": [
       "{'sequence': 'Tell me about Dallas',\n",
       " 'labels': ['tell me about',\n",
       "  'more information',\n",
       "  'where is this',\n",
       "  'learn culture',\n",
       "  'learn history',\n",
       "  'other',\n",
       "  'see images',\n",
       "  'travel tips for'],\n",
       " 'scores': [0.4699907898902893,\n",
       "  0.17275391519069672,\n",
       "  0.15224777162075043,\n",
       "  0.08411936461925507,\n",
       "  0.0678265169262886,\n",
       "  0.03163723275065422,\n",
       "  0.013645980507135391,\n",
       "  0.0077785006724298]}"
      ]
     },
     "execution_count": 15,
     "metadata": {},
     "output_type": "execute_result"
    }
   ],
   "source": [
    "clf(\"Tell me about Dallas\", candidate_labels=action_labels)"
   ]
  },
  {
   "cell_type": "code",
   "execution_count": 16,
   "id": "e8105ceb-72cb-44ed-8023-3d0ffb8f63df",
   "metadata": {},
   "outputs": [
    {
     "data": {
      "text/plain": [
       "{'sequence': 'tell me about ',\n",
       " 'labels': ['tell me about',\n",
       "  'more information',\n",
       "  'where is this',\n",
       "  'other',\n",
       "  'learn history',\n",
       "  'learn culture',\n",
       "  'see images',\n",
       "  'travel tips for'],\n",
       " 'scores': [0.37117069959640503,\n",
       "  0.2139732986688614,\n",
       "  0.17680512368679047,\n",
       "  0.13223589956760406,\n",
       "  0.03996511176228523,\n",
       "  0.027667013928294182,\n",
       "  0.024540022015571594,\n",
       "  0.013642849400639534]}"
      ]
     },
     "execution_count": 16,
     "metadata": {},
     "output_type": "execute_result"
    }
   ],
   "source": [
    "clf(\"tell me about \", candidate_labels=action_labels)"
   ]
  },
  {
   "cell_type": "code",
   "execution_count": null,
   "id": "f356b607-9a75-4824-a839-c5fff6556c6b",
   "metadata": {},
   "outputs": [],
   "source": []
  }
 ],
 "metadata": {
  "kernelspec": {
   "display_name": "Python 3 (ipykernel)",
   "language": "python",
   "name": "python3"
  },
  "language_info": {
   "codemirror_mode": {
    "name": "ipython",
    "version": 3
   },
   "file_extension": ".py",
   "mimetype": "text/x-python",
   "name": "python",
   "nbconvert_exporter": "python",
   "pygments_lexer": "ipython3",
   "version": "3.9.12"
  }
 },
 "nbformat": 4,
 "nbformat_minor": 5
}
