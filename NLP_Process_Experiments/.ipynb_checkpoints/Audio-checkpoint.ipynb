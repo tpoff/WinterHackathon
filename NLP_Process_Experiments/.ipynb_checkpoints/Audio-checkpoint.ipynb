{
 "cells": [
  {
   "cell_type": "markdown",
   "id": "dd4f4f52-647d-4f01-9120-b48814914ebd",
   "metadata": {},
   "source": [
    "## Important Note\n",
    "* Channels might need to tune into: 0, 1, 2\n",
    "* python -m sounddevice\n",
    "* Example:  \n",
    "  \\* 0 Display Audio, Core Audio (1 in, 2 out)  \n",
    "     1 Razer Kraken V3 X, Core Audio (2 in, 0 out)  "
   ]
  },
  {
   "cell_type": "markdown",
   "id": "06dd9fdb-c3a6-4195-81b4-b231650948e8",
   "metadata": {},
   "source": [
    "## Intallation\n",
    "* pip3 install sounddevice\n",
    "* pip3 install scipy"
   ]
  },
  {
   "cell_type": "code",
   "execution_count": 9,
   "id": "4d63f0f6-b861-4410-9c7a-dad73e566fb3",
   "metadata": {},
   "outputs": [],
   "source": [
    "import sounddevice as sd\n",
    "from scipy.io.wavfile import write"
   ]
  },
  {
   "cell_type": "code",
   "execution_count": 10,
   "id": "265fcc9a-df0c-4d89-9563-d7b537fd6f1a",
   "metadata": {},
   "outputs": [],
   "source": [
    "freq = 44100    # Sampling frequency\n",
    "duration = 3    # Recording duration\n",
    "record_file = \"AARecording.wav\""
   ]
  },
  {
   "cell_type": "code",
   "execution_count": 15,
   "id": "aa5ed09d-3df1-4c25-ace5-baa1c0221387",
   "metadata": {},
   "outputs": [
    {
     "name": "stdout",
     "output_type": "stream",
     "text": [
      "Start Recording.....\n",
      "Recorded! Recording File: AARecording.wav\n"
     ]
    }
   ],
   "source": [
    "print(\"Start Recording.....\")\n",
    "\n",
    "# Start recorder with the given values of duration and sample frequency\n",
    "recording = sd.rec(duration * freq, samplerate=freq, channels=1, dtype='float64')   #1\n",
    "  \n",
    "# Record audio for the given number of seconds\n",
    "sd.wait()\n",
    "  \n",
    "# This will convert the NumPy array to an audio file with the given sampling frequency\n",
    "write(record_file, freq, recording)\n",
    "\n",
    "print(\"Recorded! Recording File:\", record_file)"
   ]
  },
  {
   "cell_type": "code",
   "execution_count": null,
   "id": "90409d1e-650a-4ac8-8b79-5edb84b5ab21",
   "metadata": {},
   "outputs": [],
   "source": []
  },
  {
   "cell_type": "code",
   "execution_count": null,
   "id": "2689a610-8d02-48d6-9e79-819c32bd0928",
   "metadata": {},
   "outputs": [],
   "source": []
  }
 ],
 "metadata": {
  "kernelspec": {
   "display_name": "Python 3",
   "language": "python",
   "name": "python3"
  },
  "language_info": {
   "codemirror_mode": {
    "name": "ipython",
    "version": 3
   },
   "file_extension": ".py",
   "mimetype": "text/x-python",
   "name": "python",
   "nbconvert_exporter": "python",
   "pygments_lexer": "ipython3",
   "version": "3.8.8"
  }
 },
 "nbformat": 4,
 "nbformat_minor": 5
}
