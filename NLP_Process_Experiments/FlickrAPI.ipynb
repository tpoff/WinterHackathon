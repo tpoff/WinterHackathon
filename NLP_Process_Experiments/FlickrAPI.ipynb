{
 "cells": [
  {
   "cell_type": "markdown",
   "id": "de8e4ba9-0313-4cad-833a-dc8b0598d4b6",
   "metadata": {},
   "source": [
    "## Installation\n",
    "* (get off vpn)\n",
    "* unset HTTP_PROXY HTTPS_PROXY\n",
    "\n",
    "* pip install flickrapi\n"
   ]
  },
  {
   "cell_type": "markdown",
   "id": "99b13109-7a7c-42de-95a2-7b2f373e72e7",
   "metadata": {},
   "source": [
    "## Search Photos"
   ]
  },
  {
   "cell_type": "code",
   "execution_count": 1,
   "id": "6a6737e7-39e0-41ae-9c95-d541d1f1b414",
   "metadata": {},
   "outputs": [],
   "source": [
    "from flickrapi import FlickrAPI"
   ]
  },
  {
   "cell_type": "code",
   "execution_count": 2,
   "id": "dacc46e8-a1fe-4879-bffb-7bfc8f02a3aa",
   "metadata": {},
   "outputs": [],
   "source": [
    "from IPython.display import display, HTML\n",
    "from pprint import pprint"
   ]
  },
  {
   "cell_type": "code",
   "execution_count": 3,
   "id": "fc4e3053-e062-4907-8b07-558d3f0e44e8",
   "metadata": {},
   "outputs": [],
   "source": [
    "FLICKR_PUBLIC = '70871ff16d3a400b1c4675bd423abd13'\n",
    "FLICKR_SECRET = 'cee2f7226982315d'"
   ]
  },
  {
   "cell_type": "code",
   "execution_count": 4,
   "id": "ac3f0cb0-f1f0-43fd-bab2-f00de8562508",
   "metadata": {},
   "outputs": [],
   "source": [
    "flickr = FlickrAPI(FLICKR_PUBLIC, FLICKR_SECRET, format='parsed-json')\n",
    "extras = 'url_sq,url_t,url_s,url_q,url_m,url_n,url_z,url_c,url_l,url_o'\n",
    "response = flickr.photos.search(text='Dallas Texas landscape', sort=\"relevance\", per_page=30, extras=extras)"
   ]
  },
  {
   "cell_type": "code",
   "execution_count": 5,
   "id": "c2566d05-5221-4804-b628-72434a6cd737",
   "metadata": {},
   "outputs": [],
   "source": [
    "# pprint(response)"
   ]
  },
  {
   "cell_type": "code",
   "execution_count": 6,
   "id": "3cc86e67-8ac7-4fa8-9f81-3b8dde24f162",
   "metadata": {},
   "outputs": [],
   "source": [
    "# pprint(response['photos'])"
   ]
  },
  {
   "cell_type": "markdown",
   "id": "2e0753f9-e9c8-4e9b-b5e5-d60634807013",
   "metadata": {},
   "source": [
    "## Build HTML Content List"
   ]
  },
  {
   "cell_type": "code",
   "execution_count": 7,
   "id": "7ecde1dd-774d-4f9e-9c94-0f83a522e1eb",
   "metadata": {},
   "outputs": [],
   "source": [
    "strhtml = \"\"\"\n",
    "<table width='540px' cellpadding='1'>\n",
    "<tr><td>\n",
    "\"\"\"\n",
    "\n",
    "for item in response['photos']['photo']:\n",
    "    Thumbnail = item['url_t']\n",
    "    \n",
    "    try:\n",
    "        Large = item['url_l']\n",
    "    except:\n",
    "        try:\n",
    "            Large = item['url_o']\n",
    "        except:\n",
    "            pass\n",
    "    \n",
    "    strhtml += f\"<a target='_blank' href='{Large}'><img src='{Thumbnail}'></a>\" \n",
    "    \n",
    "strhtml += \"</td></tr></table>\"  "
   ]
  },
  {
   "cell_type": "code",
   "execution_count": 8,
   "id": "cd165816-2c94-42a8-b336-c2b871e8cefd",
   "metadata": {},
   "outputs": [
    {
     "data": {
      "text/html": [
       "\n",
       "<table width='540px' cellpadding='1'>\n",
       "<tr><td>\n",
       "<a href='https://live.staticflickr.com/4487/37835948681_dc8549b1f5_b.jpg'><img src='https://live.staticflickr.com/4487/37835948681_dc8549b1f5_t.jpg'></a><a href='https://live.staticflickr.com/8853/18409743316_5e99253aaf_b.jpg'><img src='https://live.staticflickr.com/8853/18409743316_5e99253aaf_t.jpg'></a><a href='https://live.staticflickr.com/65535/24633705041_dc37885408_b.jpg'><img src='https://live.staticflickr.com/65535/24633705041_dc37885408_t.jpg'></a><a href='https://live.staticflickr.com/65535/32526478826_3243ac34bc_b.jpg'><img src='https://live.staticflickr.com/65535/32526478826_3243ac34bc_t.jpg'></a><a href='https://live.staticflickr.com/466/17899606904_da4698bbc9_b.jpg'><img src='https://live.staticflickr.com/466/17899606904_da4698bbc9_t.jpg'></a><a href='https://live.staticflickr.com/65535/46916777252_b85c4cdf48_b.jpg'><img src='https://live.staticflickr.com/65535/46916777252_b85c4cdf48_t.jpg'></a><a href='https://live.staticflickr.com/5534/14066690833_6313e85858_b.jpg'><img src='https://live.staticflickr.com/5534/14066690833_6313e85858_t.jpg'></a><a href='https://live.staticflickr.com/8193/8107397956_3c2c0baa85_b.jpg'><img src='https://live.staticflickr.com/8193/8107397956_3c2c0baa85_t.jpg'></a><a href='https://live.staticflickr.com/8072/29688786120_13c7d91531_b.jpg'><img src='https://live.staticflickr.com/8072/29688786120_13c7d91531_t.jpg'></a><a href='https://live.staticflickr.com/65535/26382049263_4d10cf21af_b.jpg'><img src='https://live.staticflickr.com/65535/26382049263_4d10cf21af_t.jpg'></a><a href='https://live.staticflickr.com/831/41893332362_aef7c9cdf4_b.jpg'><img src='https://live.staticflickr.com/831/41893332362_aef7c9cdf4_t.jpg'></a><a href='https://live.staticflickr.com/4173/34640763105_3926017174_b.jpg'><img src='https://live.staticflickr.com/4173/34640763105_3926017174_t.jpg'></a><a href='https://live.staticflickr.com/65535/29090836073_e79ebdaa4b_b.jpg'><img src='https://live.staticflickr.com/65535/29090836073_e79ebdaa4b_t.jpg'></a><a href='https://live.staticflickr.com/7545/16230426571_3d87a99ffe_b.jpg'><img src='https://live.staticflickr.com/7545/16230426571_3d87a99ffe_t.jpg'></a><a href='https://live.staticflickr.com/3476/3280387942_dcf96c20e3_b.jpg'><img src='https://live.staticflickr.com/3476/3280387942_dcf96c20e3_t.jpg'></a><a href='https://live.staticflickr.com/65535/32878692580_af3c75c2bd_b.jpg'><img src='https://live.staticflickr.com/65535/32878692580_af3c75c2bd_t.jpg'></a><a href='https://live.staticflickr.com/65535/26166246198_ed0d28fd4b_b.jpg'><img src='https://live.staticflickr.com/65535/26166246198_ed0d28fd4b_t.jpg'></a><a href='https://live.staticflickr.com/65535/33216496333_255e6bcd3a_b.jpg'><img src='https://live.staticflickr.com/65535/33216496333_255e6bcd3a_t.jpg'></a><a href='https://live.staticflickr.com/224/521301018_8054c0ce8a_b.jpg'><img src='https://live.staticflickr.com/224/521301018_8054c0ce8a_t.jpg'></a><a href='https://live.staticflickr.com/65535/38513825751_9eda3255cb_b.jpg'><img src='https://live.staticflickr.com/65535/38513825751_9eda3255cb_t.jpg'></a><a href='https://live.staticflickr.com/4913/31161672077_a66040a5c0_b.jpg'><img src='https://live.staticflickr.com/4913/31161672077_a66040a5c0_t.jpg'></a><a href='https://live.staticflickr.com/4542/23887915547_8a7ec64bc1_b.jpg'><img src='https://live.staticflickr.com/4542/23887915547_8a7ec64bc1_t.jpg'></a><a href='https://live.staticflickr.com/4589/25416906698_51bf289699_b.jpg'><img src='https://live.staticflickr.com/4589/25416906698_51bf289699_t.jpg'></a><a href='https://live.staticflickr.com/8849/17664719263_cd6812a954_b.jpg'><img src='https://live.staticflickr.com/8849/17664719263_cd6812a954_t.jpg'></a><a href='https://live.staticflickr.com/7/12035308_52910f3b6f_b.jpg'><img src='https://live.staticflickr.com/7/12035308_52910f3b6f_t.jpg'></a><a href='https://live.staticflickr.com/4484/23928678548_edb8b2d5b2_b.jpg'><img src='https://live.staticflickr.com/4484/23928678548_edb8b2d5b2_t.jpg'></a><a href='https://live.staticflickr.com/7060/27469185375_e187b51cc6_b.jpg'><img src='https://live.staticflickr.com/7060/27469185375_e187b51cc6_t.jpg'></a><a href='https://live.staticflickr.com/491/18304739426_fef3f1aab9_b.jpg'><img src='https://live.staticflickr.com/491/18304739426_fef3f1aab9_t.jpg'></a><a href='https://live.staticflickr.com/4488/37072208454_d80b0c6544_b.jpg'><img src='https://live.staticflickr.com/4488/37072208454_d80b0c6544_t.jpg'></a><a href='https://live.staticflickr.com/4562/38437919706_ca0f8c4189_b.jpg'><img src='https://live.staticflickr.com/4562/38437919706_ca0f8c4189_t.jpg'></a></td></tr></table>"
      ],
      "text/plain": [
       "<IPython.core.display.HTML object>"
      ]
     },
     "metadata": {},
     "output_type": "display_data"
    }
   ],
   "source": [
    "display(HTML(strhtml))"
   ]
  },
  {
   "cell_type": "code",
   "execution_count": null,
   "id": "feae9793-f181-4cad-a44a-ed96f3bded1c",
   "metadata": {},
   "outputs": [],
   "source": []
  },
  {
   "cell_type": "code",
   "execution_count": 15,
   "id": "7317c7bb-01ef-4dfe-8247-740ad11ce341",
   "metadata": {},
   "outputs": [
    {
     "name": "stdout",
     "output_type": "stream",
     "text": [
      "{'farm': 8,\n",
      " 'height_c': 533,\n",
      " 'height_l': 683,\n",
      " 'height_m': 333,\n",
      " 'height_n': 213,\n",
      " 'height_q': 150,\n",
      " 'height_s': 160,\n",
      " 'height_sq': 75,\n",
      " 'height_t': 67,\n",
      " 'height_z': 427,\n",
      " 'id': '18140043580',\n",
      " 'isfamily': 0,\n",
      " 'isfriend': 0,\n",
      " 'ispublic': 1,\n",
      " 'owner': '37081594@N05',\n",
      " 'secret': 'ccac11c27e',\n",
      " 'server': '7796',\n",
      " 'title': 'Dallas Texas',\n",
      " 'url_c': 'https://live.staticflickr.com/7796/18140043580_ccac11c27e_c.jpg',\n",
      " 'url_l': 'https://live.staticflickr.com/7796/18140043580_ccac11c27e_b.jpg',\n",
      " 'url_m': 'https://live.staticflickr.com/7796/18140043580_ccac11c27e.jpg',\n",
      " 'url_n': 'https://live.staticflickr.com/7796/18140043580_ccac11c27e_n.jpg',\n",
      " 'url_q': 'https://live.staticflickr.com/7796/18140043580_ccac11c27e_q.jpg',\n",
      " 'url_s': 'https://live.staticflickr.com/7796/18140043580_ccac11c27e_m.jpg',\n",
      " 'url_sq': 'https://live.staticflickr.com/7796/18140043580_ccac11c27e_s.jpg',\n",
      " 'url_t': 'https://live.staticflickr.com/7796/18140043580_ccac11c27e_t.jpg',\n",
      " 'url_z': 'https://live.staticflickr.com/7796/18140043580_ccac11c27e_z.jpg',\n",
      " 'width_c': 800,\n",
      " 'width_l': 1024,\n",
      " 'width_m': 500,\n",
      " 'width_n': 320,\n",
      " 'width_q': 150,\n",
      " 'width_s': 240,\n",
      " 'width_sq': 75,\n",
      " 'width_t': 100,\n",
      " 'width_z': 640}\n"
     ]
    }
   ],
   "source": [
    "pprint(item)"
   ]
  },
  {
   "cell_type": "code",
   "execution_count": null,
   "id": "9f115a26-d968-4e14-a73a-ac25ddbe35f9",
   "metadata": {},
   "outputs": [],
   "source": []
  },
  {
   "cell_type": "code",
   "execution_count": null,
   "id": "a0a7f871-a176-4701-a4e0-fd0275eea08b",
   "metadata": {},
   "outputs": [],
   "source": []
  },
  {
   "cell_type": "code",
   "execution_count": null,
   "id": "210f44ff-f4fd-4811-b9ad-f88ea2134152",
   "metadata": {},
   "outputs": [],
   "source": []
  },
  {
   "cell_type": "code",
   "execution_count": null,
   "id": "20e29ddd-2a45-45cd-b3bc-5289798f08bc",
   "metadata": {},
   "outputs": [],
   "source": []
  }
 ],
 "metadata": {
  "kernelspec": {
   "display_name": "Python 3",
   "language": "python",
   "name": "python3"
  },
  "language_info": {
   "codemirror_mode": {
    "name": "ipython",
    "version": 3
   },
   "file_extension": ".py",
   "mimetype": "text/x-python",
   "name": "python",
   "nbconvert_exporter": "python",
   "pygments_lexer": "ipython3",
   "version": "3.8.8"
  }
 },
 "nbformat": 4,
 "nbformat_minor": 5
}
