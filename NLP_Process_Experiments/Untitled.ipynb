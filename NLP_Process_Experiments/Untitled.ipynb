{
 "cells": [
  {
   "cell_type": "code",
   "execution_count": 3,
   "id": "fedaac81-bfa8-44d1-9b00-c8378c76e0b2",
   "metadata": {},
   "outputs": [],
   "source": [
    "import transformers \n",
    "from transformers import pipeline\n",
    "import numpy as np\n",
    "import pandas as pd\n",
    "import tensorflow as tf\n",
    "import pickle\n",
    "import torch"
   ]
  },
  {
   "cell_type": "code",
   "execution_count": 5,
   "id": "662414be-0ef3-4867-8dcf-5248bbddec20",
   "metadata": {},
   "outputs": [
    {
     "data": {
      "text/plain": [
       "'cuda:0'"
      ]
     },
     "execution_count": 5,
     "metadata": {},
     "output_type": "execute_result"
    }
   ],
   "source": [
    "device = \"cuda:0\" if torch.cuda.is_available() else \"cpu\"\n",
    "device"
   ]
  },
  {
   "cell_type": "code",
   "execution_count": 9,
   "id": "ea88a685-7f83-4b95-a64e-72df1164e317",
   "metadata": {},
   "outputs": [],
   "source": [
    "named_entity_recognition_pipeline = pipeline(\"ner\", aggregation_strategy=\"simple\", model=\"Jean-Baptiste/roberta-large-ner-english\", device=device)"
   ]
  },
  {
   "cell_type": "code",
   "execution_count": 23,
   "id": "ea954487-b9ec-49d5-a5d7-1aff852f3840",
   "metadata": {},
   "outputs": [],
   "source": [
    "zero_shot_classifier_pipeline = pipeline(\"zero-shot-classification\", model=\"facebook/bart-large-mnli\", device=device)"
   ]
  },
  {
   "cell_type": "code",
   "execution_count": 113,
   "id": "a359d530-0f1c-4dbf-92d0-8aa5c8585685",
   "metadata": {},
   "outputs": [],
   "source": [
    "subject = \"none\"\n",
    "def nlp_get_subject(text_input):\n",
    "    global subject\n",
    "    # first get all named entities from the text input\n",
    "    entities = named_entity_recognition_pipeline(text_input)\n",
    "    # get all location entities\n",
    "    location_entities = [entity for entity in entities if entity['entity_group']=='LOC']\n",
    "    subject = location_entities[0]['word'] if len(location_entities)!=0 else subject # replace subject is there is a new location entity\n",
    "    return subject, entities\n",
    "\n",
    "def nlp_get_major_category(text_input):\n",
    "    # major categories, text info, videos, images, tweets, \n",
    "    major_categories = [\"videos\", \"images\", \"tweets\", \"info\"]\n",
    "    classes = zero_shot_classifier_pipeline(text_input, candidate_labels=major_categories)\n",
    "    major_category = classes['labels'][0]\n",
    "    major_category_score = classes['scores'][0]\n",
    "    return major_category, major_category_score\n",
    "    \n",
    "def nlp_get_info_category_strat_multi_point_category(text_input):\n",
    "    history_categories = [\"history\"]\n",
    "    tourist_categories = [\"tourist\", \"eat\"]\n",
    "    general_info_categories = [\"general\"]\n",
    "    info_categories = history_categories + tourist_categories + general_info_categories\n",
    "    classes = zero_shot_classifier_pipeline(text_input, candidate_labels=info_categories)\n",
    "    major_category = classes['labels'][0]\n",
    "    major_category_score = classes['scores'][0]\n",
    "    average_distance = sum([major_category_score - i for i in classes['scores'][1:]]) / (len(classes['scores']))\n",
    "    if major_category in history_categories:\n",
    "        major_category = \"history\"\n",
    "    if major_category in tourist_categories:\n",
    "        major_category = \"tourist\"\n",
    "    if major_category in general_info_categories:\n",
    "        major_category = \"general\"\n",
    "    return major_category, major_category_score\n",
    "    \n",
    "def nlp_get_info_category_strat_simple(text_input):\n",
    "    classes = ['history', 'tourist', 'general']    \n",
    "    classes = zero_shot_classifier_pipeline(text_input, candidate_labels=classes)\n",
    "    major_category = classes['labels'][0]\n",
    "    major_category_score = classes['scores'][0]\n",
    "    return major_category, major_category_score\n",
    "    \n",
    "def nlp_pipeline(text_input):\n",
    "    global subject\n",
    "    # first get all named entities from the text input\n",
    "    subject, entities = nlp_get_subject(text_input)\n",
    "\n",
    "\n",
    "    # next, we need to figure out what the user is asking for\n",
    "    major_category, major_category_score = nlp_get_major_category(text_input)\n",
    "\n",
    "    # next, if we have a request for info, we need to break down what info they are asking for,   \n",
    "    if major_category == \"info\":\n",
    "        major_category, major_category_score = nlp_get_info_category_strat_multi_point_category(text_input)\n",
    "        \n",
    "\n",
    "    print((subject, major_category, major_category_score, text_input))"
   ]
  },
  {
   "cell_type": "code",
   "execution_count": 114,
   "id": "cc0997c6-5f6d-4de8-a616-cb0c36b36f81",
   "metadata": {},
   "outputs": [
    {
     "name": "stdout",
     "output_type": "stream",
     "text": [
      "(' Dallas', 'images', 0.8798865675926208, 'show me pics of downtown Dallas.')\n",
      "(' Dallas', 'videos', 0.8130041360855103, 'show me Dallas videos.')\n",
      "\n",
      "general\n",
      "(' Dallas', 'general', 0.402066171169281, 'tell me about Dallas.')\n",
      "(' Dallas', 'general', 0.976294994354248, 'general info about Dallas.')\n",
      "(' Dallas', 'general', 0.6452187895774841, 'what is Dallas.')\n",
      "\n",
      "history\n",
      "(' Dallas', 'history', 0.871361494064331, 'what is the history of Dallas.')\n",
      "(' Dallas', 'history', 0.6147159934043884, 'when was Dallas Founded.')\n",
      "(' Dallas', 'history', 0.8361102342605591, \"tell me about Dallas's past.\")\n",
      "(' Texas', 'history', 0.5355569124221802, 'When was the last slave Freed in Texas?')\n",
      "\n",
      "tourist\n",
      "(' Dallas', 'tourist', 0.43379834294319153, 'Things to do in Dallas')\n",
      "(' Dallas', 'tourist', 0.9219280481338501, 'site seeing Dallas')\n",
      "(' Dallas', 'tourist', 0.6388269662857056, 'Places to go Dallas')\n",
      "(' Dallas', 'tourist', 0.8585844039916992, 'Places to eat Dallas')\n",
      "(' Dallas', 'tourist', 0.39705610275268555, 'Dallas nightlife')\n",
      "(' Dallas', 'tourist', 0.37324124574661255, '5 start hotels Dallas')\n",
      "(' Dallas', 'tourist', 0.3970620334148407, 'Dallas housing')\n"
     ]
    }
   ],
   "source": [
    "\n",
    "nlp_pipeline(\"show me pics of downtown Dallas.\")\n",
    "nlp_pipeline(\"show me Dallas videos.\")\n",
    "print()\n",
    "\n",
    "# info tests\n",
    "# general info questions\n",
    "print(\"general\")\n",
    "nlp_pipeline(\"tell me about Dallas.\")\n",
    "nlp_pipeline(\"general info about Dallas.\")\n",
    "nlp_pipeline(\"what is Dallas.\")\n",
    "# history questions\n",
    "print(\"\\nhistory\")\n",
    "nlp_pipeline(\"what is the history of Dallas.\")\n",
    "nlp_pipeline(\"when was Dallas Founded.\")\n",
    "nlp_pipeline(\"tell me about Dallas's past.\")\n",
    "nlp_pipeline(\"When was the last slave Freed in Texas?\")\n",
    "# tourist questions\n",
    "print(\"\\ntourist\")\n",
    "nlp_pipeline(\"Things to do in Dallas\")\n",
    "nlp_pipeline(\"site seeing Dallas\")\n",
    "nlp_pipeline(\"Places to go Dallas\")\n",
    "nlp_pipeline(\"Places to eat Dallas\")\n",
    "nlp_pipeline(\"Dallas nightlife\")\n",
    "nlp_pipeline(\"5 start hotels Dallas\")\n",
    "nlp_pipeline(\"Dallas housing\")"
   ]
  },
  {
   "cell_type": "code",
   "execution_count": null,
   "id": "7d236bc2-961f-4ad7-a0c5-34825e6555d3",
   "metadata": {},
   "outputs": [],
   "source": []
  },
  {
   "cell_type": "code",
   "execution_count": null,
   "id": "b5779e22-7314-41be-9326-efcc2fb3cf2e",
   "metadata": {},
   "outputs": [],
   "source": []
  },
  {
   "cell_type": "code",
   "execution_count": null,
   "id": "d35e6473-7984-4ff6-82d4-5e96e751d321",
   "metadata": {},
   "outputs": [],
   "source": []
  }
 ],
 "metadata": {
  "kernelspec": {
   "display_name": "Python 3 (ipykernel)",
   "language": "python",
   "name": "python3"
  },
  "language_info": {
   "codemirror_mode": {
    "name": "ipython",
    "version": 3
   },
   "file_extension": ".py",
   "mimetype": "text/x-python",
   "name": "python",
   "nbconvert_exporter": "python",
   "pygments_lexer": "ipython3",
   "version": "3.9.12"
  }
 },
 "nbformat": 4,
 "nbformat_minor": 5
}
