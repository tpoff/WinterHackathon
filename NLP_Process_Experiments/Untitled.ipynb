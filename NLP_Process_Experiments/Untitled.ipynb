{
 "cells": [
  {
   "cell_type": "code",
   "execution_count": 3,
   "id": "fedaac81-bfa8-44d1-9b00-c8378c76e0b2",
   "metadata": {},
   "outputs": [],
   "source": [
    "import transformers \n",
    "from transformers import pipeline\n",
    "import numpy as np\n",
    "import pandas as pd\n",
    "import tensorflow as tf\n",
    "import pickle\n",
    "import torch"
   ]
  },
  {
   "cell_type": "code",
   "execution_count": 5,
   "id": "662414be-0ef3-4867-8dcf-5248bbddec20",
   "metadata": {},
   "outputs": [
    {
     "data": {
      "text/plain": [
       "'cuda:0'"
      ]
     },
     "execution_count": 5,
     "metadata": {},
     "output_type": "execute_result"
    }
   ],
   "source": [
    "device = \"cuda:0\" if torch.cuda.is_available() else \"cpu\"\n",
    "device"
   ]
  },
  {
   "cell_type": "code",
   "execution_count": 9,
   "id": "ea88a685-7f83-4b95-a64e-72df1164e317",
   "metadata": {},
   "outputs": [],
   "source": [
    "named_entity_recognition_pipeline = pipeline(\"ner\", aggregation_strategy=\"simple\", model=\"Jean-Baptiste/roberta-large-ner-english\", device=device)"
   ]
  },
  {
   "cell_type": "code",
   "execution_count": 23,
   "id": "ea954487-b9ec-49d5-a5d7-1aff852f3840",
   "metadata": {},
   "outputs": [],
   "source": [
    "zero_shot_classifier_pipeline = pipeline(\"zero-shot-classification\", model=\"facebook/bart-large-mnli\", device=device)"
   ]
  },
  {
   "cell_type": "code",
   "execution_count": 34,
   "id": "a359d530-0f1c-4dbf-92d0-8aa5c8585685",
   "metadata": {},
   "outputs": [
    {
     "data": {
      "text/plain": [
       "('info', 0.8277179002761841)"
      ]
     },
     "execution_count": 34,
     "metadata": {},
     "output_type": "execute_result"
    }
   ],
   "source": [
    "text_input = \"things to do Dallas.\"\n",
    "\n",
    "# first get all named entities from the text input\n",
    "entities = named_entity_recognition_pipeline(text_input)\n",
    "# get all location entities\n",
    "location_entities = [entity for entity in entities if entity['entity_group']=='LOC']\n",
    "subject = location_entities[0]['word'] if len(location_entities)!=0 else subject # replace subject is there is a new location entity\n",
    "\n",
    "\n",
    "# next, we need to figure out what the user is asking for\n",
    "# major categories, text info, videos, images, tweets, \n",
    "major_categories = [\"videos\", \"images\", \"tweets\", \"info\"]\n",
    "classes = zero_shot_classifier_pipeline(text_input, candidate_labels=major_categories)\n",
    "major_category = classes['labels'][0]\n",
    "major_category_score = classes['scores'][0]\n",
    "\n",
    "\n",
    "# next, if we have a request for info, we need to break down what info they are asking for,\n",
    "info_categories = []\n",
    "if major_category == \"info\":\n",
    "    print(\"getting more info\")\n",
    "    classes = zero_shot_classifier_pipeline(text_input, candidate_labels=info_categories)\n",
    "    major_category = classes['labels'][0]\n",
    "    major_category_score = classes['scores'][0]\n",
    "    \n",
    "subject, major_category, major_category_score"
   ]
  },
  {
   "cell_type": "code",
   "execution_count": null,
   "id": "cc0997c6-5f6d-4de8-a616-cb0c36b36f81",
   "metadata": {},
   "outputs": [],
   "source": []
  },
  {
   "cell_type": "code",
   "execution_count": null,
   "id": "7d236bc2-961f-4ad7-a0c5-34825e6555d3",
   "metadata": {},
   "outputs": [],
   "source": []
  },
  {
   "cell_type": "code",
   "execution_count": null,
   "id": "b5779e22-7314-41be-9326-efcc2fb3cf2e",
   "metadata": {},
   "outputs": [],
   "source": []
  },
  {
   "cell_type": "code",
   "execution_count": null,
   "id": "d35e6473-7984-4ff6-82d4-5e96e751d321",
   "metadata": {},
   "outputs": [],
   "source": []
  }
 ],
 "metadata": {
  "kernelspec": {
   "display_name": "Python 3 (ipykernel)",
   "language": "python",
   "name": "python3"
  },
  "language_info": {
   "codemirror_mode": {
    "name": "ipython",
    "version": 3
   },
   "file_extension": ".py",
   "mimetype": "text/x-python",
   "name": "python",
   "nbconvert_exporter": "python",
   "pygments_lexer": "ipython3",
   "version": "3.9.12"
  }
 },
 "nbformat": 4,
 "nbformat_minor": 5
}
