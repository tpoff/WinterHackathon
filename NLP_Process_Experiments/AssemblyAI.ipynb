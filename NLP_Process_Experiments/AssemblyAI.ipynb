{
 "cells": [
  {
   "cell_type": "code",
   "execution_count": null,
   "id": "9e0399d9-9554-4a0d-b760-2122711787cb",
   "metadata": {},
   "outputs": [],
   "source": []
  },
  {
   "cell_type": "code",
   "execution_count": 70,
   "id": "e5cd1eec-4641-40e5-b2e9-4efb4c2b5810",
   "metadata": {},
   "outputs": [],
   "source": [
    "import requests\n",
    "import time"
   ]
  },
  {
   "cell_type": "code",
   "execution_count": 71,
   "id": "387c6f87-8f7a-475d-8a8b-53faacc57da4",
   "metadata": {},
   "outputs": [],
   "source": [
    "Token = \"f50552091d9148249640201d2dc3e31f\""
   ]
  },
  {
   "cell_type": "markdown",
   "id": "0c5f4960-62fb-445a-b21d-d0e736819011",
   "metadata": {},
   "source": [
    "## Upload Audio File (wav)"
   ]
  },
  {
   "cell_type": "code",
   "execution_count": 72,
   "id": "14076bdd-d88d-4ee1-b862-2eb59f59a1b8",
   "metadata": {},
   "outputs": [],
   "source": [
    "# filename = \"/Users/cv0361/src/Hackathon/Audio/DallasVideo.wav\"\n",
    "# filename = \"/Users/cv0361/src/Hackathon/Audio/Dallas.wav\"\n",
    "filename = \"/Users/cv0361/src/Hackathon/AARecording.wav\"\n",
    "\n",
    "def read_file(filename, chunk_size=5242880):\n",
    "    with open(filename, 'rb') as _file:\n",
    "        while True:\n",
    "            data = _file.read(chunk_size)\n",
    "            if not data:\n",
    "                break\n",
    "            yield data\n",
    "\n",
    "headers = {'authorization': f\"{Token}\"}\n",
    "\n",
    "response = requests.post('https://api.assemblyai.com/v2/upload',\n",
    "                        headers=headers,\n",
    "                        data=read_file(filename))"
   ]
  },
  {
   "cell_type": "code",
   "execution_count": 73,
   "id": "8bc2e813-949d-4ee0-8c16-5491823975fc",
   "metadata": {},
   "outputs": [],
   "source": [
    "resobj = response.json()\n",
    "# resobj"
   ]
  },
  {
   "cell_type": "code",
   "execution_count": 74,
   "id": "f68c84dd-2080-45e7-8e9a-f2aa20eb9fe9",
   "metadata": {},
   "outputs": [
    {
     "data": {
      "text/plain": [
       "'https://cdn.assemblyai.com/upload/6673a93c-8194-4114-9a67-54e1eb229574'"
      ]
     },
     "execution_count": 74,
     "metadata": {},
     "output_type": "execute_result"
    }
   ],
   "source": [
    "upload_url = resobj['upload_url']\n",
    "upload_url"
   ]
  },
  {
   "cell_type": "code",
   "execution_count": null,
   "id": "becc67cd-f802-4364-ba41-624610f30bb6",
   "metadata": {},
   "outputs": [],
   "source": []
  },
  {
   "cell_type": "markdown",
   "id": "3d2f1449-cd19-453d-af06-8d814f709c3a",
   "metadata": {},
   "source": [
    "## Transcribe Audio"
   ]
  },
  {
   "cell_type": "code",
   "execution_count": 75,
   "id": "b3f24279-6b3e-4949-bb3f-b961eeefac55",
   "metadata": {},
   "outputs": [],
   "source": [
    "json = {\n",
    "    \"audio_url\": f\"{upload_url}\",\n",
    "    \"punctuate\": True,\n",
    "    \"format_text\": False\n",
    "}\n",
    "\n",
    "headers = {\n",
    "    \"authorization\": f\"{Token}\",\n",
    "    \"content-type\": \"application/json\"\n",
    "}\n",
    "\n",
    "response = requests.post(\"https://api.assemblyai.com/v2/transcript\", json=json, headers=headers)"
   ]
  },
  {
   "cell_type": "code",
   "execution_count": 76,
   "id": "030721d9-04db-441f-ae61-2dfa2c85a4d9",
   "metadata": {},
   "outputs": [],
   "source": [
    "resobj = response.json()\n",
    "# resobj"
   ]
  },
  {
   "cell_type": "code",
   "execution_count": 77,
   "id": "7120c679-3c3b-4ac9-8f99-b732e5d26613",
   "metadata": {},
   "outputs": [
    {
     "data": {
      "text/plain": [
       "'r7lqobi024-763f-476d-a2d0-51732b10d212'"
      ]
     },
     "execution_count": 77,
     "metadata": {},
     "output_type": "execute_result"
    }
   ],
   "source": [
    "transcript_id = resobj['id']\n",
    "transcript_id"
   ]
  },
  {
   "cell_type": "code",
   "execution_count": null,
   "id": "530a001d-4fb4-4e75-9fdf-ae4b7c7799a2",
   "metadata": {},
   "outputs": [],
   "source": []
  },
  {
   "cell_type": "markdown",
   "id": "8bc35e9c-c5f4-499a-85eb-df3ff896b5a5",
   "metadata": {},
   "source": [
    "## Wait for completion and Transcription to be Available"
   ]
  },
  {
   "cell_type": "code",
   "execution_count": 78,
   "id": "b59ca40c-98e2-4ca0-b14a-dbfc02e09f98",
   "metadata": {},
   "outputs": [
    {
     "name": "stdout",
     "output_type": "stream",
     "text": [
      "Waiting.... 1\n",
      "Waiting.... 2\n",
      "Waiting.... 3\n",
      "Waiting.... 4\n",
      "Waiting.... 5\n",
      "API done!\n"
     ]
    }
   ],
   "source": [
    "loop = 0\n",
    "MAX_COUNT = 30\n",
    "wait_sec = 1\n",
    "status = \"\"\n",
    "\n",
    "while (status != \"completed\") and (loop < MAX_COUNT):\n",
    "    loop += 1\n",
    "    time.sleep(wait_sec)\n",
    "    \n",
    "    # Get Transcript\n",
    "    endpoint = f\"https://api.assemblyai.com/v2/transcript/{transcript_id}\"\n",
    "    headers = {\"authorization\": f\"{Token}\"}\n",
    "    response = requests.get(endpoint, headers=headers)\n",
    "    \n",
    "    resobj = response.json()\n",
    "    status = resobj['status']\n",
    "    # End \n",
    "    \n",
    "    print(\"Waiting....\", loop)\n",
    "    \n",
    "if loop < MAX_COUNT:\n",
    "    print(\"API done!\")\n",
    "    text = resobj['text']\n",
    "else:\n",
    "    print(\"Timed out!\")"
   ]
  },
  {
   "cell_type": "code",
   "execution_count": 79,
   "id": "c42545bb-825a-4e8d-949c-243a8a3f5ffb",
   "metadata": {},
   "outputs": [
    {
     "data": {
      "text/plain": [
       "'Tell me something about Tokyo.'"
      ]
     },
     "execution_count": 79,
     "metadata": {},
     "output_type": "execute_result"
    }
   ],
   "source": [
    "text"
   ]
  },
  {
   "cell_type": "code",
   "execution_count": null,
   "id": "cf98a386-f264-4a46-b214-6e8d48f716a2",
   "metadata": {},
   "outputs": [],
   "source": []
  },
  {
   "cell_type": "code",
   "execution_count": 80,
   "id": "ebfc7c13-d85c-40a9-82f3-82b5d75e5956",
   "metadata": {},
   "outputs": [
    {
     "data": {
      "text/plain": [
       "'Tell me something about Tokyo. '"
      ]
     },
     "execution_count": 80,
     "metadata": {},
     "output_type": "execute_result"
    }
   ],
   "source": [
    "def getTextWithConfidence(WordList, threshold=0.5):\n",
    "    strPhrase = \"\"\n",
    "    \n",
    "    for word in WordList:\n",
    "        if word['confidence'] > threshold:\n",
    "            strPhrase += word['text'] + \" \"\n",
    "\n",
    "    return strPhrase\n",
    "            \n",
    "getTextWithConfidence(resobj['words'])"
   ]
  },
  {
   "cell_type": "code",
   "execution_count": 81,
   "id": "88afeeee-e0b0-41ed-91f5-ecc49a3b1b0e",
   "metadata": {},
   "outputs": [
    {
     "data": {
      "text/plain": [
       "{'id': 'r7lqobi024-763f-476d-a2d0-51732b10d212',\n",
       " 'language_model': 'assemblyai_default',\n",
       " 'acoustic_model': 'assemblyai_default',\n",
       " 'language_code': 'en_us',\n",
       " 'status': 'completed',\n",
       " 'audio_url': 'https://cdn.assemblyai.com/upload/6673a93c-8194-4114-9a67-54e1eb229574',\n",
       " 'text': 'Tell me something about Tokyo.',\n",
       " 'words': [{'text': 'Tell',\n",
       "   'start': 810,\n",
       "   'end': 974,\n",
       "   'confidence': 0.99989,\n",
       "   'speaker': None},\n",
       "  {'text': 'me',\n",
       "   'start': 1012,\n",
       "   'end': 1166,\n",
       "   'confidence': 0.99987,\n",
       "   'speaker': None},\n",
       "  {'text': 'something',\n",
       "   'start': 1188,\n",
       "   'end': 1374,\n",
       "   'confidence': 0.99943,\n",
       "   'speaker': None},\n",
       "  {'text': 'about',\n",
       "   'start': 1412,\n",
       "   'end': 1614,\n",
       "   'confidence': 0.9996,\n",
       "   'speaker': None},\n",
       "  {'text': 'Tokyo.',\n",
       "   'start': 1652,\n",
       "   'end': 2090,\n",
       "   'confidence': 0.98948,\n",
       "   'speaker': None}],\n",
       " 'utterances': None,\n",
       " 'confidence': 0.997654,\n",
       " 'audio_duration': 3,\n",
       " 'punctuate': True,\n",
       " 'format_text': False,\n",
       " 'dual_channel': None,\n",
       " 'webhook_url': None,\n",
       " 'webhook_status_code': None,\n",
       " 'webhook_auth': False,\n",
       " 'webhook_auth_header_name': None,\n",
       " 'speed_boost': False,\n",
       " 'auto_highlights_result': None,\n",
       " 'auto_highlights': False,\n",
       " 'audio_start_from': None,\n",
       " 'audio_end_at': None,\n",
       " 'word_boost': [],\n",
       " 'boost_param': None,\n",
       " 'filter_profanity': False,\n",
       " 'redact_pii': False,\n",
       " 'redact_pii_audio': False,\n",
       " 'redact_pii_audio_quality': None,\n",
       " 'redact_pii_policies': None,\n",
       " 'redact_pii_sub': None,\n",
       " 'speaker_labels': False,\n",
       " 'content_safety': False,\n",
       " 'iab_categories': False,\n",
       " 'content_safety_labels': {'status': 'unavailable',\n",
       "  'results': [],\n",
       "  'summary': {}},\n",
       " 'iab_categories_result': {'status': 'unavailable',\n",
       "  'results': [],\n",
       "  'summary': {}},\n",
       " 'language_detection': False,\n",
       " 'custom_spelling': None,\n",
       " 'cluster_id': None,\n",
       " 'throttled': None,\n",
       " 'auto_chapters': False,\n",
       " 'summarization': False,\n",
       " 'summary_type': None,\n",
       " 'summary_model': None,\n",
       " 'disfluencies': False,\n",
       " 'sentiment_analysis': False,\n",
       " 'chapters': None,\n",
       " 'sentiment_analysis_results': None,\n",
       " 'entity_detection': False,\n",
       " 'entities': None,\n",
       " 'summary': None}"
      ]
     },
     "execution_count": 81,
     "metadata": {},
     "output_type": "execute_result"
    }
   ],
   "source": [
    "resobj"
   ]
  },
  {
   "cell_type": "code",
   "execution_count": null,
   "id": "57a8ac74-0459-4717-b15b-151e93d527ea",
   "metadata": {},
   "outputs": [],
   "source": []
  }
 ],
 "metadata": {
  "kernelspec": {
   "display_name": "Python 3",
   "language": "python",
   "name": "python3"
  },
  "language_info": {
   "codemirror_mode": {
    "name": "ipython",
    "version": 3
   },
   "file_extension": ".py",
   "mimetype": "text/x-python",
   "name": "python",
   "nbconvert_exporter": "python",
   "pygments_lexer": "ipython3",
   "version": "3.8.8"
  }
 },
 "nbformat": 4,
 "nbformat_minor": 5
}
