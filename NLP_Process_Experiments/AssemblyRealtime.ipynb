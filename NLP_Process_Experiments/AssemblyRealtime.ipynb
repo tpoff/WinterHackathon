{
 "cells": [
  {
   "cell_type": "code",
   "execution_count": 6,
   "id": "6887134b-7995-4c9a-b843-195cd519de46",
   "metadata": {},
   "outputs": [],
   "source": [
    "auth_key = \"b9be974194ad478e99a45c3f8b2b5824\""
   ]
  },
  {
   "cell_type": "code",
   "execution_count": 7,
   "id": "a532596a-4d32-4077-a081-8bf8641f1c12",
   "metadata": {},
   "outputs": [],
   "source": [
    "import pyaudio\n",
    "import websockets\n",
    "import asyncio\n",
    "import base64\n",
    "import json"
   ]
  },
  {
   "cell_type": "code",
   "execution_count": 3,
   "id": "b699f54a-c8d7-4ea9-b79f-1c98698dd5cf",
   "metadata": {},
   "outputs": [],
   "source": [
    "FRAMES_PER_BUFFER = 3200\n",
    "FORMAT = pyaudio.paInt16\n",
    "CHANNELS = 1\n",
    "RATE = 16000\n",
    "p = pyaudio.PyAudio()"
   ]
  },
  {
   "cell_type": "code",
   "execution_count": 4,
   "id": "1a59da07-0f6f-4d1b-9e35-ece4791a1adc",
   "metadata": {},
   "outputs": [],
   "source": [
    "stream = p.open(\n",
    "    format=FORMAT,\n",
    "    channels=CHANNELS,\n",
    "    rate=RATE,\n",
    "    input=True,\n",
    "    frames_per_buffer=FRAMES_PER_BUFFER)"
   ]
  },
  {
   "cell_type": "code",
   "execution_count": 8,
   "id": "abf90195-1277-4039-b6a0-916bc6d8b2b2",
   "metadata": {},
   "outputs": [],
   "source": [
    "URL = \"wss://api.assemblyai.com/v2/realtime/ws?sample_rate=16000\""
   ]
  },
  {
   "cell_type": "code",
   "execution_count": 9,
   "id": "cc9c8887-12e7-446c-b517-bd7dbab861ae",
   "metadata": {},
   "outputs": [],
   "source": [
    "async def send_receive():\n",
    "   print(f'Connecting websocket to url ${URL}')\n",
    "   async with websockets.connect(\n",
    "       URL,\n",
    "       extra_headers=((\"Authorization\", auth_key),),\n",
    "       ping_interval=5,\n",
    "       ping_timeout=20\n",
    "   ) as _ws:\n",
    "       await asyncio.sleep(0.1)\n",
    "       print(\"Receiving SessionBegins ...\")\n",
    "       session_begins = await _ws.recv()\n",
    "       print(session_begins)\n",
    "       print(\"Sending messages ...\")\n",
    "       async def send():\n",
    "           while True:\n",
    "               try:\n",
    "                   data = stream.read(FRAMES_PER_BUFFER)\n",
    "                   data = base64.b64encode(data).decode(\"utf-8\")\n",
    "                   json_data = json.dumps({\"audio_data\":str(data)})\n",
    "                   await _ws.send(json_data)\n",
    "               except websockets.exceptions.ConnectionClosedError as e:\n",
    "                   print(e)\n",
    "                   assert e.code == 4008\n",
    "                   break\n",
    "               except Exception as e:\n",
    "                   assert False, \"Not a websocket 4008 error\"\n",
    "               await asyncio.sleep(0.01)\n",
    "          \n",
    "           return True\n",
    "      \n",
    "       async def receive():\n",
    "           while True:\n",
    "               try:\n",
    "                   result_str = await _ws.recv()\n",
    "                   print(json.loads(result_str)['text'])\n",
    "               except websockets.exceptions.ConnectionClosedError as e:\n",
    "                   print(e)\n",
    "                   assert e.code == 4008\n",
    "                   break\n",
    "               except Exception as e:\n",
    "                   assert False, \"Not a websocket 4008 error\"\n",
    "      \n",
    "       send_result, receive_result = await asyncio.gather(send(), receive())"
   ]
  },
  {
   "cell_type": "code",
   "execution_count": 10,
   "id": "1c1ee64e-bf8e-4c6b-a39a-96288f6b1586",
   "metadata": {},
   "outputs": [
    {
     "ename": "RuntimeError",
     "evalue": "asyncio.run() cannot be called from a running event loop",
     "output_type": "error",
     "traceback": [
      "\u001b[1;31m---------------------------------------------------------------------------\u001b[0m",
      "\u001b[1;31mRuntimeError\u001b[0m                              Traceback (most recent call last)",
      "Input \u001b[1;32mIn [10]\u001b[0m, in \u001b[0;36m<cell line: 1>\u001b[1;34m()\u001b[0m\n\u001b[1;32m----> 1\u001b[0m \u001b[43masyncio\u001b[49m\u001b[38;5;241;43m.\u001b[39;49m\u001b[43mrun\u001b[49m\u001b[43m(\u001b[49m\u001b[43msend_receive\u001b[49m\u001b[43m(\u001b[49m\u001b[43m)\u001b[49m\u001b[43m)\u001b[49m\n",
      "File \u001b[1;32m~\\anaconda3\\lib\\asyncio\\runners.py:33\u001b[0m, in \u001b[0;36mrun\u001b[1;34m(main, debug)\u001b[0m\n\u001b[0;32m      9\u001b[0m \u001b[38;5;124;03m\"\"\"Execute the coroutine and return the result.\u001b[39;00m\n\u001b[0;32m     10\u001b[0m \n\u001b[0;32m     11\u001b[0m \u001b[38;5;124;03mThis function runs the passed coroutine, taking care of\u001b[39;00m\n\u001b[1;32m   (...)\u001b[0m\n\u001b[0;32m     30\u001b[0m \u001b[38;5;124;03m    asyncio.run(main())\u001b[39;00m\n\u001b[0;32m     31\u001b[0m \u001b[38;5;124;03m\"\"\"\u001b[39;00m\n\u001b[0;32m     32\u001b[0m \u001b[38;5;28;01mif\u001b[39;00m events\u001b[38;5;241m.\u001b[39m_get_running_loop() \u001b[38;5;129;01mis\u001b[39;00m \u001b[38;5;129;01mnot\u001b[39;00m \u001b[38;5;28;01mNone\u001b[39;00m:\n\u001b[1;32m---> 33\u001b[0m     \u001b[38;5;28;01mraise\u001b[39;00m \u001b[38;5;167;01mRuntimeError\u001b[39;00m(\n\u001b[0;32m     34\u001b[0m         \u001b[38;5;124m\"\u001b[39m\u001b[38;5;124masyncio.run() cannot be called from a running event loop\u001b[39m\u001b[38;5;124m\"\u001b[39m)\n\u001b[0;32m     36\u001b[0m \u001b[38;5;28;01mif\u001b[39;00m \u001b[38;5;129;01mnot\u001b[39;00m coroutines\u001b[38;5;241m.\u001b[39miscoroutine(main):\n\u001b[0;32m     37\u001b[0m     \u001b[38;5;28;01mraise\u001b[39;00m \u001b[38;5;167;01mValueError\u001b[39;00m(\u001b[38;5;124m\"\u001b[39m\u001b[38;5;124ma coroutine was expected, got \u001b[39m\u001b[38;5;132;01m{!r}\u001b[39;00m\u001b[38;5;124m\"\u001b[39m\u001b[38;5;241m.\u001b[39mformat(main))\n",
      "\u001b[1;31mRuntimeError\u001b[0m: asyncio.run() cannot be called from a running event loop"
     ]
    }
   ],
   "source": [
    "asyncio.run(send_receive())"
   ]
  },
  {
   "cell_type": "code",
   "execution_count": null,
   "id": "8708b5da-85ab-4e96-a79e-459ecaa0099e",
   "metadata": {},
   "outputs": [],
   "source": []
  }
 ],
 "metadata": {
  "kernelspec": {
   "display_name": "Python 3 (ipykernel)",
   "language": "python",
   "name": "python3"
  },
  "language_info": {
   "codemirror_mode": {
    "name": "ipython",
    "version": 3
   },
   "file_extension": ".py",
   "mimetype": "text/x-python",
   "name": "python",
   "nbconvert_exporter": "python",
   "pygments_lexer": "ipython3",
   "version": "3.9.12"
  }
 },
 "nbformat": 4,
 "nbformat_minor": 5
}
