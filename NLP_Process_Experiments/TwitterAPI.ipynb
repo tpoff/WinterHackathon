{
 "cells": [
  {
   "cell_type": "markdown",
   "id": "3e487efe-ce2d-45ce-8e6d-ad98d3358aa4",
   "metadata": {},
   "source": [
    "## Installation\n",
    "* (get off vpn)\n",
    "* unset HTTP_PROXY HTTPS_PROXY\n",
    "\n",
    "* pip install requests\n",
    "* pip install requests-oauthlib\n"
   ]
  },
  {
   "cell_type": "code",
   "execution_count": null,
   "id": "3bdfc631-d0c1-4cfd-b84f-f1d023263e30",
   "metadata": {},
   "outputs": [],
   "source": []
  },
  {
   "cell_type": "code",
   "execution_count": 1,
   "id": "96d45b07-6898-49a9-bb84-75ac713985e6",
   "metadata": {},
   "outputs": [],
   "source": [
    "import requests\n",
    "import json"
   ]
  },
  {
   "cell_type": "code",
   "execution_count": 3,
   "id": "0c03f25f-8320-4980-8676-eda34c44ddc5",
   "metadata": {},
   "outputs": [],
   "source": [
    "bearer_token = \"AAAAAAAAAAAAAAAAAAAAALXOkAEAAAAAJcMmA%2BymvGkz8qZdBybQIFXVgAQ%3DB7lXrSS2OzjBiVuzAGsI8OIZhDt80TnD8KXNdh6xKAxI0IJsh1\""
   ]
  },
  {
   "cell_type": "code",
   "execution_count": 4,
   "id": "999c4d53-26e5-4bbd-aea1-82a39cc776bf",
   "metadata": {},
   "outputs": [],
   "source": [
    "search_url = \"https://api.twitter.com/2/tweets/search/recent\""
   ]
  },
  {
   "cell_type": "code",
   "execution_count": 25,
   "id": "316836b7-8a92-416f-8860-429f3b63ab7f",
   "metadata": {},
   "outputs": [],
   "source": [
    "# Optional params: start_time,end_time,since_id,until_id,max_results,next_token,\n",
    "# expansions,tweet.fields,media.fields,poll.fields,place.fields,user.fields\n",
    "query_params = {'query': 'Dallas Texas Interesting',\n",
    "                'tweet.fields': 'author_id'\n",
    "               }\n",
    "\n",
    "\n",
    "def bearer_oauth(r):\n",
    "    \"\"\"\n",
    "    Method required by bearer token authentication.\n",
    "    \"\"\"\n",
    "\n",
    "    r.headers[\"Authorization\"] = f\"Bearer {bearer_token}\"\n",
    "    r.headers[\"User-Agent\"] = \"v2RecentSearchPython\"\n",
    "    return r\n",
    "\n",
    "def connect_to_endpoint(url, params):\n",
    "    response = requests.get(url, auth=bearer_oauth, params=params)\n",
    "    print(response.status_code)\n",
    "    if response.status_code != 200:\n",
    "        raise Exception(response.status_code, response.text)\n",
    "    return response.json()\n"
   ]
  },
  {
   "cell_type": "code",
   "execution_count": 26,
   "id": "ae42cd27-192e-4b72-975d-37df62dfb5b4",
   "metadata": {},
   "outputs": [
    {
     "name": "stdout",
     "output_type": "stream",
     "text": [
      "200\n"
     ]
    }
   ],
   "source": [
    "json_response = connect_to_endpoint(search_url, query_params)"
   ]
  },
  {
   "cell_type": "code",
   "execution_count": 27,
   "id": "2be579c8-8e48-4674-800a-ee3d6f0c4e89",
   "metadata": {},
   "outputs": [
    {
     "name": "stdout",
     "output_type": "stream",
     "text": [
      "{\n",
      "    \"data\": [\n",
      "        {\n",
      "            \"author_id\": \"253287660\",\n",
      "            \"edit_history_tweet_ids\": [\n",
      "                \"1600541972950925328\"\n",
      "            ],\n",
      "            \"id\": \"1600541972950925328\",\n",
      "            \"text\": \"This is kind of interesting. \\nThink about it, the next time you want to take a shot at Texas.               \\n  -Blue Houston (and Dallas)\\n\\nHow red is Texas? Not even in the top 25, CPAC ranking says https://t.co/h4Z0P38Ypk\"\n",
      "        },\n",
      "        {\n",
      "            \"author_id\": \"1546740442733367297\",\n",
      "            \"edit_history_tweet_ids\": [\n",
      "                \"1600528898332233732\"\n",
      "            ],\n",
      "            \"id\": \"1600528898332233732\",\n",
      "            \"text\": \"2/The Optus &amp; Medibank ransomware attacks in Australia makes the lack of emphasis on cyber particularly interesting. The US has suffered a slew of domestic attacks, including the notable 2021 Colonial Pipeline attack &amp; this week an attack on Texas\\u2019 TCAD  https://t.co/hXRzOXCMy8\"\n",
      "        },\n",
      "        {\n",
      "            \"author_id\": \"1524238377402445824\",\n",
      "            \"edit_history_tweet_ids\": [\n",
      "                \"1600345090039611392\"\n",
      "            ],\n",
      "            \"id\": \"1600345090039611392\",\n",
      "            \"text\": \"RT @spurkedfights: 2 planes hit each other in mid air #planes #plane #Dallas #Texas #gore #interesting https://t.co/0BaVgDJ1ZS\"\n",
      "        },\n",
      "        {\n",
      "            \"author_id\": \"1129887719776313345\",\n",
      "            \"edit_history_tweet_ids\": [\n",
      "                \"1600185027249156096\"\n",
      "            ],\n",
      "            \"id\": \"1600185027249156096\",\n",
      "            \"text\": \"As you may know, we are having different panel discussions and Thomas Jones will be the moderator for the high level panel. \\n\\nVery interesting topics will be discussed, so don\\u2019t hesitate and register today to attend the expo.\\n\\nLink in the bio\\n\\n#sba #dallas #texas https://t.co/lWyhEUL9pi\"\n",
      "        },\n",
      "        {\n",
      "            \"author_id\": \"1365123657001959431\",\n",
      "            \"edit_history_tweet_ids\": [\n",
      "                \"1600121038310113280\"\n",
      "            ],\n",
      "            \"id\": \"1600121038310113280\",\n",
      "            \"text\": \"RT @spurkedfights: 2 planes hit each other in mid air #planes #plane #Dallas #Texas #gore #interesting https://t.co/0BaVgDJ1ZS\"\n",
      "        },\n",
      "        {\n",
      "            \"author_id\": \"925614087152713730\",\n",
      "            \"edit_history_tweet_ids\": [\n",
      "                \"1599971393864896512\"\n",
      "            ],\n",
      "            \"id\": \"1599971393864896512\",\n",
      "            \"text\": \"@tonyvenuti There's a bot for everything.\\nPersonally I like bots.\\nAnd the holy spirit.\\nDallas is questionable. I've lived in Dallas Texas for 5 years and most of it was hell, but for purpose I suppose.\\nRapture is an interesting concept as well.\"\n",
      "        },\n",
      "        {\n",
      "            \"author_id\": \"802729922175389696\",\n",
      "            \"edit_history_tweet_ids\": [\n",
      "                \"1599671959524372480\"\n",
      "            ],\n",
      "            \"id\": \"1599671959524372480\",\n",
      "            \"text\": \"S7E5: The TV show 'Dallas' was always a favorite of mine. The complex character of JR Ewing was especially interesting to me. So it was a special thrill to get a special visit to the Ewing homestead at Southfork Ranch in Dallas, Texas.  https://t.co/4fi3xQ3UmM https://t.co/BvkIrYyT6x\"\n",
      "        },\n",
      "        {\n",
      "            \"author_id\": \"140641561\",\n",
      "            \"edit_history_tweet_ids\": [\n",
      "                \"1599129555910156288\"\n",
      "            ],\n",
      "            \"id\": \"1599129555910156288\",\n",
      "            \"text\": \"RT @BlacklionCTA: Most interesting is the Dallas Fed Mfg Survey. DFW is booming as is much of Texas. Energy prices strong, etc. yet we've 7\\u2026\"\n",
      "        },\n",
      "        {\n",
      "            \"author_id\": \"255781485\",\n",
      "            \"edit_history_tweet_ids\": [\n",
      "                \"1599115227806584832\"\n",
      "            ],\n",
      "            \"id\": \"1599115227806584832\",\n",
      "            \"text\": \"RT @BlacklionCTA: Most interesting is the Dallas Fed Mfg Survey. DFW is booming as is much of Texas. Energy prices strong, etc. yet we've 7\\u2026\"\n",
      "        },\n",
      "        {\n",
      "            \"author_id\": \"1534653211801358336\",\n",
      "            \"edit_history_tweet_ids\": [\n",
      "                \"1599108127584321537\"\n",
      "            ],\n",
      "            \"id\": \"1599108127584321537\",\n",
      "            \"text\": \"RT @BlacklionCTA: Most interesting is the Dallas Fed Mfg Survey. DFW is booming as is much of Texas. Energy prices strong, etc. yet we've 7\\u2026\"\n",
      "        }\n",
      "    ],\n",
      "    \"meta\": {\n",
      "        \"newest_id\": \"1600541972950925328\",\n",
      "        \"next_token\": \"b26v89c19zqg8o3fpzhn035kdtvtah6or9181nxbcnm2l\",\n",
      "        \"oldest_id\": \"1599108127584321537\",\n",
      "        \"result_count\": 10\n",
      "    }\n",
      "}\n"
     ]
    }
   ],
   "source": [
    "print(json.dumps(json_response, indent=4, sort_keys=True))"
   ]
  },
  {
   "cell_type": "code",
   "execution_count": null,
   "id": "eafdfd4b-0243-44c4-a5a3-721cf6232256",
   "metadata": {},
   "outputs": [],
   "source": []
  },
  {
   "cell_type": "code",
   "execution_count": null,
   "id": "77e99982-f148-482d-b80a-6ce058c22242",
   "metadata": {},
   "outputs": [],
   "source": []
  },
  {
   "cell_type": "code",
   "execution_count": null,
   "id": "d81e3a5a-7515-45e4-9574-c727bf14ec8a",
   "metadata": {},
   "outputs": [],
   "source": []
  }
 ],
 "metadata": {
  "kernelspec": {
   "display_name": "Python 3",
   "language": "python",
   "name": "python3"
  },
  "language_info": {
   "codemirror_mode": {
    "name": "ipython",
    "version": 3
   },
   "file_extension": ".py",
   "mimetype": "text/x-python",
   "name": "python",
   "nbconvert_exporter": "python",
   "pygments_lexer": "ipython3",
   "version": "3.8.8"
  }
 },
 "nbformat": 4,
 "nbformat_minor": 5
}
