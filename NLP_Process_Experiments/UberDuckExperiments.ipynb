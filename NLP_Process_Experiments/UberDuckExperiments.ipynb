{
 "cells": [
  {
   "cell_type": "code",
   "execution_count": 11,
   "id": "5ce997b7-b4b7-476a-8174-afe55a87ddc3",
   "metadata": {},
   "outputs": [
    {
     "name": "stdout",
     "output_type": "stream",
     "text": [
      "<Response [200]>\n"
     ]
    }
   ],
   "source": [
    "import requests\n",
    "from requests.auth import HTTPBasicAuth\n",
    "\n",
    "basic = HTTPBasicAuth('pub_aunuanvcxyzyaesdxg', 'pk_80032937-33af-41ba-92c4-fd42d5277b9f')\n",
    "url = \"https://api.uberduck.ai/reference-audio\"\n",
    "\n",
    "headers = {\"accept\": \"application/json\"}\n",
    "\n",
    "response = requests.get(url, headers=headers, auth=basic)\n",
    "\n",
    "print(response)"
   ]
  },
  {
   "cell_type": "code",
   "execution_count": 16,
   "id": "5bb216cb-f84c-41c5-a43f-c80d4ca7c022",
   "metadata": {},
   "outputs": [
    {
     "name": "stdout",
     "output_type": "stream",
     "text": [
      "<Response [405]>\n"
     ]
    }
   ],
   "source": [
    "basic = HTTPBasicAuth('aunuanvcxyzyaesdxg', 'pk_80032937-33af-41ba-92c4-fd42d5277b9f')\n",
    "url = \"https://api.uberduck.ai/speak\"\n",
    "\n",
    "headers = {\"accept\": \"application/json\", \"speech\":\"this is a test\", \"voice\":\"zwf\"}\n",
    "\n",
    "response = requests.get(url, headers=headers, auth=basic)\n",
    "\n",
    "print(response)"
   ]
  },
  {
   "cell_type": "code",
   "execution_count": 15,
   "id": "bb3f7c7f-a59a-4e17-9a03-01815688a256",
   "metadata": {},
   "outputs": [],
   "source": [
    "#requests.get(\"https://api.uberduck.ai/voices?mode=tts-basic\").text"
   ]
  },
  {
   "cell_type": "code",
   "execution_count": 9,
   "id": "b4dfce9a-e141-4e8b-a2cc-9e0498a474d4",
   "metadata": {},
   "outputs": [
    {
     "name": "stdout",
     "output_type": "stream",
     "text": [
      "Spoke voice\n",
      "CPU times: total: 6.02 s\n",
      "Wall time: 5min 6s\n"
     ]
    }
   ],
   "source": [
    "%%time\n",
    "import uberduck\n",
    "client = uberduck.UberDuck(\"pub_aunuanvcxyzyaesdxg\", \"pk_80032937-33af-41ba-92c4-fd42d5277b9f\")\n",
    "#voices = uberduck.get_voices(return_only_names = True)\n",
    "\n",
    "speech = \"This isn't the end, I hope you understand that.\"\n",
    "voice = \"glados\"\n",
    "\n",
    "#if voice == 'LIST':\n",
    "#    print('Available voices:\\n')\n",
    "#    for voice in sorted(voices): # sorting the voice list in alphabetical order\n",
    "#        print(voice)\n",
    "#    exit()\n",
    "\n",
    "#if voice not in voices:\n",
    "#    print('Invalid voice')\n",
    "#    exit()\n",
    "\n",
    "for i in range(100):\n",
    "    client.speak(speech, voice, play_sound = False, file_path=\"./glados_test.wav\")\n",
    "print('Spoke voice')\n"
   ]
  },
  {
   "cell_type": "code",
   "execution_count": null,
   "id": "750e57b3-5cfe-4cab-8b6c-2bcfde7e41c4",
   "metadata": {},
   "outputs": [],
   "source": []
  }
 ],
 "metadata": {
  "kernelspec": {
   "display_name": "Python 3 (ipykernel)",
   "language": "python",
   "name": "python3"
  },
  "language_info": {
   "codemirror_mode": {
    "name": "ipython",
    "version": 3
   },
   "file_extension": ".py",
   "mimetype": "text/x-python",
   "name": "python",
   "nbconvert_exporter": "python",
   "pygments_lexer": "ipython3",
   "version": "3.9.12"
  }
 },
 "nbformat": 4,
 "nbformat_minor": 5
}
