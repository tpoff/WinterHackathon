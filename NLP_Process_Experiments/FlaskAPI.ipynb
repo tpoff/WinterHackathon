{
 "cells": [
  {
   "cell_type": "code",
   "execution_count": null,
   "id": "2696d2f8-18f3-46fc-b245-28f015bbfa4a",
   "metadata": {},
   "outputs": [],
   "source": []
  },
  {
   "cell_type": "code",
   "execution_count": null,
   "id": "b16f358a-74cf-4104-aeb8-9b4285afbb9f",
   "metadata": {},
   "outputs": [],
   "source": []
  },
  {
   "cell_type": "code",
   "execution_count": 1,
   "id": "64511104-8c8e-404c-b2b3-ae6f3144a662",
   "metadata": {},
   "outputs": [],
   "source": [
    "import requests\n",
    "import json\n",
    "from pprint import pprint"
   ]
  },
  {
   "cell_type": "code",
   "execution_count": 2,
   "id": "1a3bb72d-9dcc-4c25-835a-db6e56401501",
   "metadata": {},
   "outputs": [],
   "source": [
    "url = \"http://127.0.0.1:5000/api/test\""
   ]
  },
  {
   "cell_type": "code",
   "execution_count": 7,
   "id": "1cc67637-de21-4f40-ad2b-d13eab171a1e",
   "metadata": {},
   "outputs": [
    {
     "name": "stdout",
     "output_type": "stream",
     "text": [
      "200\n"
     ]
    }
   ],
   "source": [
    "response = requests.get(url)\n",
    "\n",
    "print(response.status_code)\n",
    "\n",
    "if response.status_code != 200:\n",
    "    raise Exception(response.status_code, response.text)"
   ]
  },
  {
   "cell_type": "code",
   "execution_count": 8,
   "id": "64adf0d9-816a-487a-baf7-e5f333012268",
   "metadata": {},
   "outputs": [
    {
     "name": "stdout",
     "output_type": "stream",
     "text": [
      "[{'email': 'Dallas@outlook.com', 'name': 'Dallas'},\n",
      " {'email': 'jack@outlook.com', 'name': 'jack'}]\n"
     ]
    }
   ],
   "source": [
    "pprint(response.json())"
   ]
  },
  {
   "cell_type": "code",
   "execution_count": null,
   "id": "ad8daf82-1f16-46b0-90b1-d68df47ec25a",
   "metadata": {},
   "outputs": [],
   "source": []
  },
  {
   "cell_type": "code",
   "execution_count": 9,
   "id": "8063399f-35d9-492e-a94a-bb6c87a6c45c",
   "metadata": {},
   "outputs": [
    {
     "name": "stdout",
     "output_type": "stream",
     "text": [
      "Email: Dallas@outlook.com\n",
      "Email: jack@outlook.com\n"
     ]
    }
   ],
   "source": [
    "for item in response.json():\n",
    "    print(\"Email:\", item['email'])"
   ]
  },
  {
   "cell_type": "code",
   "execution_count": 10,
   "id": "79a0d5db-7e5b-42d1-b216-f3bf494eb8eb",
   "metadata": {},
   "outputs": [
    {
     "data": {
      "text/plain": [
       "{'email': 'jack@outlook.com', 'name': 'jack'}"
      ]
     },
     "execution_count": 10,
     "metadata": {},
     "output_type": "execute_result"
    }
   ],
   "source": [
    "item"
   ]
  },
  {
   "cell_type": "code",
   "execution_count": null,
   "id": "6965981e-75b8-4367-8827-a72985455730",
   "metadata": {},
   "outputs": [],
   "source": []
  },
  {
   "cell_type": "code",
   "execution_count": null,
   "id": "c929b3ae-4ca8-4ffd-aa19-418c591547a7",
   "metadata": {},
   "outputs": [],
   "source": []
  }
 ],
 "metadata": {
  "kernelspec": {
   "display_name": "Python 3",
   "language": "python",
   "name": "python3"
  },
  "language_info": {
   "codemirror_mode": {
    "name": "ipython",
    "version": 3
   },
   "file_extension": ".py",
   "mimetype": "text/x-python",
   "name": "python",
   "nbconvert_exporter": "python",
   "pygments_lexer": "ipython3",
   "version": "3.8.8"
  }
 },
 "nbformat": 4,
 "nbformat_minor": 5
}
